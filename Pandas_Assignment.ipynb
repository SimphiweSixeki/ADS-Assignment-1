{
  "nbformat": 4,
  "nbformat_minor": 0,
  "metadata": {
    "kernelspec": {
      "display_name": "Python 3",
      "language": "python",
      "name": "python3"
    },
    "language_info": {
      "codemirror_mode": {
        "name": "ipython",
        "version": 3
      },
      "file_extension": ".py",
      "mimetype": "text/x-python",
      "name": "python",
      "nbconvert_exporter": "python",
      "pygments_lexer": "ipython3",
      "version": "3.8.8"
    },
    "colab": {
      "name": "Pandas Assignment.ipynb",
      "provenance": [],
      "include_colab_link": true
    }
  },
  "cells": [
    {
      "cell_type": "markdown",
      "metadata": {
        "id": "view-in-github",
        "colab_type": "text"
      },
      "source": [
        "<a href=\"https://colab.research.google.com/github/SimphiweSixeki/ADS-Assignment-1/blob/main/Pandas_Assignment.ipynb\" target=\"_parent\"><img src=\"https://colab.research.google.com/assets/colab-badge.svg\" alt=\"Open In Colab\"/></a>"
      ]
    },
    {
      "cell_type": "markdown",
      "metadata": {
        "id": "xyanrcXZBiv8"
      },
      "source": [
        "## Pandas\n",
        "\n",
        "### Instructions\n",
        "\n",
        "This assignment will be done completely inside this Jupyter notebook with answers placed in the cell provided.\n",
        "\n",
        "All python imports that are needed shown.\n",
        "\n",
        "Follow all the instructions in this notebook to complete these tasks.    \n",
        "\n",
        "Make sure the CSV data files is in the same folder as this notebook - alumni.csv, groceries.csv"
      ]
    },
    {
      "cell_type": "code",
      "metadata": {
        "colab": {
          "base_uri": "https://localhost:8080/"
        },
        "id": "3et4Wh69Wn5V",
        "outputId": "d64d73d6-fa47-4780-a629-f143d20f7663"
      },
      "source": [
        "from google.colab import drive\n",
        "drive.mount('/content/gdrive', force_remount = True)\n",
        "\n",
        "import sys\n",
        "sys.path.append('/content/gdrive/My Drive/DataScienceSchool/Assignments/ADS-Assignment-1')"
      ],
      "execution_count": 3,
      "outputs": [
        {
          "output_type": "stream",
          "text": [
            "Mounted at /content/gdrive\n"
          ],
          "name": "stdout"
        }
      ]
    },
    {
      "cell_type": "code",
      "metadata": {
        "id": "6pF7sv7wBiwB"
      },
      "source": [
        "# Imports needed to complete this assignment\n",
        "import pandas as pd\n",
        "import seaborn as sns\n",
        "import matplotlib.pyplot as plt\n",
        "%matplotlib inline"
      ],
      "execution_count": 6,
      "outputs": []
    },
    {
      "cell_type": "markdown",
      "metadata": {
        "id": "_YS7zTabBiwC"
      },
      "source": [
        "### Question 1 :  Import CSV file (1 Mark)\n",
        "\n",
        "\n",
        "Write code to load the alumni csv dataset into a Pandas DataFrame called 'alumni'.\n"
      ]
    },
    {
      "cell_type": "code",
      "metadata": {
        "colab": {
          "base_uri": "https://localhost:8080/",
          "height": 419
        },
        "id": "8MTIKrcZBiwC",
        "outputId": "6729063c-11d7-47a1-f5f3-95b97a8706ce"
      },
      "source": [
        "#q1 (1)\n",
        "alumni = pd.read_csv(\"/content/gdrive/My Drive/DataScienceSchool/Assignments/ADS-Assignment-1/alumni.csv\")\n",
        "alumni"
      ],
      "execution_count": 7,
      "outputs": [
        {
          "output_type": "execute_result",
          "data": {
            "text/html": [
              "<div>\n",
              "<style scoped>\n",
              "    .dataframe tbody tr th:only-of-type {\n",
              "        vertical-align: middle;\n",
              "    }\n",
              "\n",
              "    .dataframe tbody tr th {\n",
              "        vertical-align: top;\n",
              "    }\n",
              "\n",
              "    .dataframe thead th {\n",
              "        text-align: right;\n",
              "    }\n",
              "</style>\n",
              "<table border=\"1\" class=\"dataframe\">\n",
              "  <thead>\n",
              "    <tr style=\"text-align: right;\">\n",
              "      <th></th>\n",
              "      <th>Year Graduated</th>\n",
              "      <th>Gender</th>\n",
              "      <th>Marital Status</th>\n",
              "      <th>Diploma Type</th>\n",
              "      <th>Defaulted</th>\n",
              "      <th>Salary</th>\n",
              "      <th>Fee</th>\n",
              "      <th>Savings ($)</th>\n",
              "    </tr>\n",
              "  </thead>\n",
              "  <tbody>\n",
              "    <tr>\n",
              "      <th>0</th>\n",
              "      <td>2004</td>\n",
              "      <td>Male</td>\n",
              "      <td>Single</td>\n",
              "      <td>Standard Diploma</td>\n",
              "      <td>Yes</td>\n",
              "      <td>125000</td>\n",
              "      <td>10869</td>\n",
              "      <td>$86,000</td>\n",
              "    </tr>\n",
              "    <tr>\n",
              "      <th>1</th>\n",
              "      <td>2005</td>\n",
              "      <td>Male</td>\n",
              "      <td>Married</td>\n",
              "      <td>College Prep Diploma</td>\n",
              "      <td>No</td>\n",
              "      <td>100000</td>\n",
              "      <td>10869</td>\n",
              "      <td>$116,000</td>\n",
              "    </tr>\n",
              "    <tr>\n",
              "      <th>2</th>\n",
              "      <td>2006</td>\n",
              "      <td>Female</td>\n",
              "      <td>Single</td>\n",
              "      <td>Standard Diploma</td>\n",
              "      <td>Yes</td>\n",
              "      <td>70000</td>\n",
              "      <td>10869</td>\n",
              "      <td>$52,000</td>\n",
              "    </tr>\n",
              "    <tr>\n",
              "      <th>3</th>\n",
              "      <td>2007</td>\n",
              "      <td>Male</td>\n",
              "      <td>Married</td>\n",
              "      <td>Standard Diploma</td>\n",
              "      <td>No</td>\n",
              "      <td>120000</td>\n",
              "      <td>10869</td>\n",
              "      <td>$76,000</td>\n",
              "    </tr>\n",
              "    <tr>\n",
              "      <th>4</th>\n",
              "      <td>2006</td>\n",
              "      <td>Female</td>\n",
              "      <td>Divorced</td>\n",
              "      <td>Standard Diploma</td>\n",
              "      <td>Yes</td>\n",
              "      <td>95000</td>\n",
              "      <td>11948</td>\n",
              "      <td>$52,000</td>\n",
              "    </tr>\n",
              "    <tr>\n",
              "      <th>...</th>\n",
              "      <td>...</td>\n",
              "      <td>...</td>\n",
              "      <td>...</td>\n",
              "      <td>...</td>\n",
              "      <td>...</td>\n",
              "      <td>...</td>\n",
              "      <td>...</td>\n",
              "      <td>...</td>\n",
              "    </tr>\n",
              "    <tr>\n",
              "      <th>83</th>\n",
              "      <td>2007</td>\n",
              "      <td>Male</td>\n",
              "      <td>Single</td>\n",
              "      <td>Standard Diploma</td>\n",
              "      <td>No</td>\n",
              "      <td>75000</td>\n",
              "      <td>12066</td>\n",
              "      <td>$16,000</td>\n",
              "    </tr>\n",
              "    <tr>\n",
              "      <th>84</th>\n",
              "      <td>2008</td>\n",
              "      <td>M</td>\n",
              "      <td>Single</td>\n",
              "      <td>College Prep Diploma</td>\n",
              "      <td>Yes</td>\n",
              "      <td>65000</td>\n",
              "      <td>12066</td>\n",
              "      <td>$72,000</td>\n",
              "    </tr>\n",
              "    <tr>\n",
              "      <th>85</th>\n",
              "      <td>2009</td>\n",
              "      <td>Male</td>\n",
              "      <td>Married</td>\n",
              "      <td>Standard Diploma</td>\n",
              "      <td>No</td>\n",
              "      <td>75000</td>\n",
              "      <td>12066</td>\n",
              "      <td>$46,000</td>\n",
              "    </tr>\n",
              "    <tr>\n",
              "      <th>86</th>\n",
              "      <td>2005</td>\n",
              "      <td>Female</td>\n",
              "      <td>Divorced</td>\n",
              "      <td>Standard Diploma</td>\n",
              "      <td>Yes</td>\n",
              "      <td>100000</td>\n",
              "      <td>12067</td>\n",
              "      <td>$32,000</td>\n",
              "    </tr>\n",
              "    <tr>\n",
              "      <th>87</th>\n",
              "      <td>2006</td>\n",
              "      <td>Male</td>\n",
              "      <td>Married</td>\n",
              "      <td>Standard Diploma</td>\n",
              "      <td>Yes</td>\n",
              "      <td>75000</td>\n",
              "      <td>12067</td>\n",
              "      <td>$67,000</td>\n",
              "    </tr>\n",
              "  </tbody>\n",
              "</table>\n",
              "<p>88 rows × 8 columns</p>\n",
              "</div>"
            ],
            "text/plain": [
              "    Year Graduated  Gender Marital Status  ...  Salary    Fee  Savings ($)\n",
              "0             2004    Male         Single  ...  125000  10869      $86,000\n",
              "1             2005    Male        Married  ...  100000  10869     $116,000\n",
              "2             2006  Female         Single  ...   70000  10869      $52,000\n",
              "3             2007    Male        Married  ...  120000  10869      $76,000\n",
              "4             2006  Female       Divorced  ...   95000  11948      $52,000\n",
              "..             ...     ...            ...  ...     ...    ...          ...\n",
              "83            2007    Male         Single  ...   75000  12066      $16,000\n",
              "84            2008       M         Single  ...   65000  12066      $72,000\n",
              "85            2009    Male        Married  ...   75000  12066      $46,000\n",
              "86            2005  Female       Divorced  ...  100000  12067      $32,000\n",
              "87            2006    Male        Married  ...   75000  12067      $67,000\n",
              "\n",
              "[88 rows x 8 columns]"
            ]
          },
          "metadata": {
            "tags": []
          },
          "execution_count": 7
        }
      ]
    },
    {
      "cell_type": "markdown",
      "metadata": {
        "id": "1SwtsPgkBiwD"
      },
      "source": [
        "### Question 2 :  Understand the data set (5 Marks)\n",
        "\n",
        "Use the following pandas commands to understand the data set: a) head, b) tail, c) dtypes, d) info, e) describe "
      ]
    },
    {
      "cell_type": "code",
      "metadata": {
        "colab": {
          "base_uri": "https://localhost:8080/",
          "height": 204
        },
        "id": "m95ELGLEBiwD",
        "outputId": "17816101-41df-4521-8740-8f3325e0ce55"
      },
      "source": [
        "#a) (1)\n",
        "alumni.head()"
      ],
      "execution_count": 8,
      "outputs": [
        {
          "output_type": "execute_result",
          "data": {
            "text/html": [
              "<div>\n",
              "<style scoped>\n",
              "    .dataframe tbody tr th:only-of-type {\n",
              "        vertical-align: middle;\n",
              "    }\n",
              "\n",
              "    .dataframe tbody tr th {\n",
              "        vertical-align: top;\n",
              "    }\n",
              "\n",
              "    .dataframe thead th {\n",
              "        text-align: right;\n",
              "    }\n",
              "</style>\n",
              "<table border=\"1\" class=\"dataframe\">\n",
              "  <thead>\n",
              "    <tr style=\"text-align: right;\">\n",
              "      <th></th>\n",
              "      <th>Year Graduated</th>\n",
              "      <th>Gender</th>\n",
              "      <th>Marital Status</th>\n",
              "      <th>Diploma Type</th>\n",
              "      <th>Defaulted</th>\n",
              "      <th>Salary</th>\n",
              "      <th>Fee</th>\n",
              "      <th>Savings ($)</th>\n",
              "    </tr>\n",
              "  </thead>\n",
              "  <tbody>\n",
              "    <tr>\n",
              "      <th>0</th>\n",
              "      <td>2004</td>\n",
              "      <td>Male</td>\n",
              "      <td>Single</td>\n",
              "      <td>Standard Diploma</td>\n",
              "      <td>Yes</td>\n",
              "      <td>125000</td>\n",
              "      <td>10869</td>\n",
              "      <td>$86,000</td>\n",
              "    </tr>\n",
              "    <tr>\n",
              "      <th>1</th>\n",
              "      <td>2005</td>\n",
              "      <td>Male</td>\n",
              "      <td>Married</td>\n",
              "      <td>College Prep Diploma</td>\n",
              "      <td>No</td>\n",
              "      <td>100000</td>\n",
              "      <td>10869</td>\n",
              "      <td>$116,000</td>\n",
              "    </tr>\n",
              "    <tr>\n",
              "      <th>2</th>\n",
              "      <td>2006</td>\n",
              "      <td>Female</td>\n",
              "      <td>Single</td>\n",
              "      <td>Standard Diploma</td>\n",
              "      <td>Yes</td>\n",
              "      <td>70000</td>\n",
              "      <td>10869</td>\n",
              "      <td>$52,000</td>\n",
              "    </tr>\n",
              "    <tr>\n",
              "      <th>3</th>\n",
              "      <td>2007</td>\n",
              "      <td>Male</td>\n",
              "      <td>Married</td>\n",
              "      <td>Standard Diploma</td>\n",
              "      <td>No</td>\n",
              "      <td>120000</td>\n",
              "      <td>10869</td>\n",
              "      <td>$76,000</td>\n",
              "    </tr>\n",
              "    <tr>\n",
              "      <th>4</th>\n",
              "      <td>2006</td>\n",
              "      <td>Female</td>\n",
              "      <td>Divorced</td>\n",
              "      <td>Standard Diploma</td>\n",
              "      <td>Yes</td>\n",
              "      <td>95000</td>\n",
              "      <td>11948</td>\n",
              "      <td>$52,000</td>\n",
              "    </tr>\n",
              "  </tbody>\n",
              "</table>\n",
              "</div>"
            ],
            "text/plain": [
              "   Year Graduated  Gender Marital Status  ...  Salary    Fee  Savings ($)\n",
              "0            2004    Male         Single  ...  125000  10869      $86,000\n",
              "1            2005    Male        Married  ...  100000  10869     $116,000\n",
              "2            2006  Female         Single  ...   70000  10869      $52,000\n",
              "3            2007    Male        Married  ...  120000  10869      $76,000\n",
              "4            2006  Female       Divorced  ...   95000  11948      $52,000\n",
              "\n",
              "[5 rows x 8 columns]"
            ]
          },
          "metadata": {
            "tags": []
          },
          "execution_count": 8
        }
      ]
    },
    {
      "cell_type": "code",
      "metadata": {
        "colab": {
          "base_uri": "https://localhost:8080/",
          "height": 204
        },
        "id": "0myhBKOEBiwD",
        "outputId": "c289b657-a76d-498a-d925-c97d689bfe82"
      },
      "source": [
        "#b) (1)\n",
        "alumni.tail()"
      ],
      "execution_count": 9,
      "outputs": [
        {
          "output_type": "execute_result",
          "data": {
            "text/html": [
              "<div>\n",
              "<style scoped>\n",
              "    .dataframe tbody tr th:only-of-type {\n",
              "        vertical-align: middle;\n",
              "    }\n",
              "\n",
              "    .dataframe tbody tr th {\n",
              "        vertical-align: top;\n",
              "    }\n",
              "\n",
              "    .dataframe thead th {\n",
              "        text-align: right;\n",
              "    }\n",
              "</style>\n",
              "<table border=\"1\" class=\"dataframe\">\n",
              "  <thead>\n",
              "    <tr style=\"text-align: right;\">\n",
              "      <th></th>\n",
              "      <th>Year Graduated</th>\n",
              "      <th>Gender</th>\n",
              "      <th>Marital Status</th>\n",
              "      <th>Diploma Type</th>\n",
              "      <th>Defaulted</th>\n",
              "      <th>Salary</th>\n",
              "      <th>Fee</th>\n",
              "      <th>Savings ($)</th>\n",
              "    </tr>\n",
              "  </thead>\n",
              "  <tbody>\n",
              "    <tr>\n",
              "      <th>83</th>\n",
              "      <td>2007</td>\n",
              "      <td>Male</td>\n",
              "      <td>Single</td>\n",
              "      <td>Standard Diploma</td>\n",
              "      <td>No</td>\n",
              "      <td>75000</td>\n",
              "      <td>12066</td>\n",
              "      <td>$16,000</td>\n",
              "    </tr>\n",
              "    <tr>\n",
              "      <th>84</th>\n",
              "      <td>2008</td>\n",
              "      <td>M</td>\n",
              "      <td>Single</td>\n",
              "      <td>College Prep Diploma</td>\n",
              "      <td>Yes</td>\n",
              "      <td>65000</td>\n",
              "      <td>12066</td>\n",
              "      <td>$72,000</td>\n",
              "    </tr>\n",
              "    <tr>\n",
              "      <th>85</th>\n",
              "      <td>2009</td>\n",
              "      <td>Male</td>\n",
              "      <td>Married</td>\n",
              "      <td>Standard Diploma</td>\n",
              "      <td>No</td>\n",
              "      <td>75000</td>\n",
              "      <td>12066</td>\n",
              "      <td>$46,000</td>\n",
              "    </tr>\n",
              "    <tr>\n",
              "      <th>86</th>\n",
              "      <td>2005</td>\n",
              "      <td>Female</td>\n",
              "      <td>Divorced</td>\n",
              "      <td>Standard Diploma</td>\n",
              "      <td>Yes</td>\n",
              "      <td>100000</td>\n",
              "      <td>12067</td>\n",
              "      <td>$32,000</td>\n",
              "    </tr>\n",
              "    <tr>\n",
              "      <th>87</th>\n",
              "      <td>2006</td>\n",
              "      <td>Male</td>\n",
              "      <td>Married</td>\n",
              "      <td>Standard Diploma</td>\n",
              "      <td>Yes</td>\n",
              "      <td>75000</td>\n",
              "      <td>12067</td>\n",
              "      <td>$67,000</td>\n",
              "    </tr>\n",
              "  </tbody>\n",
              "</table>\n",
              "</div>"
            ],
            "text/plain": [
              "    Year Graduated  Gender Marital Status  ...  Salary    Fee  Savings ($)\n",
              "83            2007    Male         Single  ...   75000  12066      $16,000\n",
              "84            2008       M         Single  ...   65000  12066      $72,000\n",
              "85            2009    Male        Married  ...   75000  12066      $46,000\n",
              "86            2005  Female       Divorced  ...  100000  12067      $32,000\n",
              "87            2006    Male        Married  ...   75000  12067      $67,000\n",
              "\n",
              "[5 rows x 8 columns]"
            ]
          },
          "metadata": {
            "tags": []
          },
          "execution_count": 9
        }
      ]
    },
    {
      "cell_type": "code",
      "metadata": {
        "colab": {
          "base_uri": "https://localhost:8080/"
        },
        "id": "Kq4Qmb6wBiwE",
        "outputId": "dad078c7-0bc7-4ce5-b421-418d6c091422"
      },
      "source": [
        "#c) (1)\n",
        "alumni.dtypes"
      ],
      "execution_count": 10,
      "outputs": [
        {
          "output_type": "execute_result",
          "data": {
            "text/plain": [
              "Year Graduated     int64\n",
              "Gender            object\n",
              "Marital Status    object\n",
              "Diploma Type      object\n",
              "Defaulted         object\n",
              "Salary             int64\n",
              "Fee                int64\n",
              "Savings ($)       object\n",
              "dtype: object"
            ]
          },
          "metadata": {
            "tags": []
          },
          "execution_count": 10
        }
      ]
    },
    {
      "cell_type": "code",
      "metadata": {
        "colab": {
          "base_uri": "https://localhost:8080/"
        },
        "id": "Xo_gecHOBiwE",
        "outputId": "801d9e4d-98a6-4f21-8758-ebcd59543008"
      },
      "source": [
        "#d) (1)\n",
        "alumni.info()"
      ],
      "execution_count": 11,
      "outputs": [
        {
          "output_type": "stream",
          "text": [
            "<class 'pandas.core.frame.DataFrame'>\n",
            "RangeIndex: 88 entries, 0 to 87\n",
            "Data columns (total 8 columns):\n",
            " #   Column          Non-Null Count  Dtype \n",
            "---  ------          --------------  ----- \n",
            " 0   Year Graduated  88 non-null     int64 \n",
            " 1   Gender          88 non-null     object\n",
            " 2   Marital Status  88 non-null     object\n",
            " 3   Diploma Type    88 non-null     object\n",
            " 4   Defaulted       88 non-null     object\n",
            " 5   Salary          88 non-null     int64 \n",
            " 6   Fee             88 non-null     int64 \n",
            " 7   Savings ($)     88 non-null     object\n",
            "dtypes: int64(3), object(5)\n",
            "memory usage: 5.6+ KB\n"
          ],
          "name": "stdout"
        }
      ]
    },
    {
      "cell_type": "code",
      "metadata": {
        "colab": {
          "base_uri": "https://localhost:8080/",
          "height": 297
        },
        "id": "3OJM2UoyBiwF",
        "outputId": "140c2d62-afc8-4104-cfa5-f4c6e2c90051"
      },
      "source": [
        "#e) (1)\n",
        "alumni.describe()"
      ],
      "execution_count": 12,
      "outputs": [
        {
          "output_type": "execute_result",
          "data": {
            "text/html": [
              "<div>\n",
              "<style scoped>\n",
              "    .dataframe tbody tr th:only-of-type {\n",
              "        vertical-align: middle;\n",
              "    }\n",
              "\n",
              "    .dataframe tbody tr th {\n",
              "        vertical-align: top;\n",
              "    }\n",
              "\n",
              "    .dataframe thead th {\n",
              "        text-align: right;\n",
              "    }\n",
              "</style>\n",
              "<table border=\"1\" class=\"dataframe\">\n",
              "  <thead>\n",
              "    <tr style=\"text-align: right;\">\n",
              "      <th></th>\n",
              "      <th>Year Graduated</th>\n",
              "      <th>Salary</th>\n",
              "      <th>Fee</th>\n",
              "    </tr>\n",
              "  </thead>\n",
              "  <tbody>\n",
              "    <tr>\n",
              "      <th>count</th>\n",
              "      <td>88.000000</td>\n",
              "      <td>88.000000</td>\n",
              "      <td>88.000000</td>\n",
              "    </tr>\n",
              "    <tr>\n",
              "      <th>mean</th>\n",
              "      <td>2006.477273</td>\n",
              "      <td>84090.909091</td>\n",
              "      <td>11708.727273</td>\n",
              "    </tr>\n",
              "    <tr>\n",
              "      <th>std</th>\n",
              "      <td>1.560852</td>\n",
              "      <td>21234.128008</td>\n",
              "      <td>1110.647949</td>\n",
              "    </tr>\n",
              "    <tr>\n",
              "      <th>min</th>\n",
              "      <td>2004.000000</td>\n",
              "      <td>35000.000000</td>\n",
              "      <td>10869.000000</td>\n",
              "    </tr>\n",
              "    <tr>\n",
              "      <th>25%</th>\n",
              "      <td>2005.000000</td>\n",
              "      <td>75000.000000</td>\n",
              "      <td>10968.000000</td>\n",
              "    </tr>\n",
              "    <tr>\n",
              "      <th>50%</th>\n",
              "      <td>2006.500000</td>\n",
              "      <td>75000.000000</td>\n",
              "      <td>11696.000000</td>\n",
              "    </tr>\n",
              "    <tr>\n",
              "      <th>75%</th>\n",
              "      <td>2008.000000</td>\n",
              "      <td>90000.000000</td>\n",
              "      <td>12058.250000</td>\n",
              "    </tr>\n",
              "    <tr>\n",
              "      <th>max</th>\n",
              "      <td>2009.000000</td>\n",
              "      <td>160000.000000</td>\n",
              "      <td>20960.000000</td>\n",
              "    </tr>\n",
              "  </tbody>\n",
              "</table>\n",
              "</div>"
            ],
            "text/plain": [
              "       Year Graduated         Salary           Fee\n",
              "count       88.000000      88.000000     88.000000\n",
              "mean      2006.477273   84090.909091  11708.727273\n",
              "std          1.560852   21234.128008   1110.647949\n",
              "min       2004.000000   35000.000000  10869.000000\n",
              "25%       2005.000000   75000.000000  10968.000000\n",
              "50%       2006.500000   75000.000000  11696.000000\n",
              "75%       2008.000000   90000.000000  12058.250000\n",
              "max       2009.000000  160000.000000  20960.000000"
            ]
          },
          "metadata": {
            "tags": []
          },
          "execution_count": 12
        }
      ]
    },
    {
      "cell_type": "markdown",
      "metadata": {
        "id": "n_ClT2bbBiwF"
      },
      "source": [
        "### Question 3 :  Cleaning the data set - part A (3 Marks)\n",
        "\n",
        "a) Use clean_currency method below to strip out commas and dollar signs from Savings ($) column and put into a new column called 'Savings'."
      ]
    },
    {
      "cell_type": "code",
      "metadata": {
        "colab": {
          "base_uri": "https://localhost:8080/"
        },
        "id": "E4xgXKq0BiwF",
        "outputId": "ceaf1da3-adcc-4765-a9be-4873aa9d3b17"
      },
      "source": [
        "def clean_currency(curr):\n",
        "    return float(curr.replace(\",\", \"\").replace(\"$\", \"\"))\n",
        "\n",
        "clean_currency(\"$66,000\")\n",
        " "
      ],
      "execution_count": 13,
      "outputs": [
        {
          "output_type": "execute_result",
          "data": {
            "text/plain": [
              "66000.0"
            ]
          },
          "metadata": {
            "tags": []
          },
          "execution_count": 13
        }
      ]
    },
    {
      "cell_type": "code",
      "metadata": {
        "id": "7Vl5OFYhBiwH"
      },
      "source": [
        "#a) (2)\n",
        "alumni['Savings'] = alumni['Savings ($)'].apply(clean_currency)\n"
      ],
      "execution_count": 14,
      "outputs": []
    },
    {
      "cell_type": "code",
      "metadata": {
        "colab": {
          "base_uri": "https://localhost:8080/",
          "height": 419
        },
        "id": "9K4I9cvKJtub",
        "outputId": "d822899b-433a-4f3f-a06c-c6bb8a2c4845"
      },
      "source": [
        "alumni"
      ],
      "execution_count": 15,
      "outputs": [
        {
          "output_type": "execute_result",
          "data": {
            "text/html": [
              "<div>\n",
              "<style scoped>\n",
              "    .dataframe tbody tr th:only-of-type {\n",
              "        vertical-align: middle;\n",
              "    }\n",
              "\n",
              "    .dataframe tbody tr th {\n",
              "        vertical-align: top;\n",
              "    }\n",
              "\n",
              "    .dataframe thead th {\n",
              "        text-align: right;\n",
              "    }\n",
              "</style>\n",
              "<table border=\"1\" class=\"dataframe\">\n",
              "  <thead>\n",
              "    <tr style=\"text-align: right;\">\n",
              "      <th></th>\n",
              "      <th>Year Graduated</th>\n",
              "      <th>Gender</th>\n",
              "      <th>Marital Status</th>\n",
              "      <th>Diploma Type</th>\n",
              "      <th>Defaulted</th>\n",
              "      <th>Salary</th>\n",
              "      <th>Fee</th>\n",
              "      <th>Savings ($)</th>\n",
              "      <th>Savings</th>\n",
              "    </tr>\n",
              "  </thead>\n",
              "  <tbody>\n",
              "    <tr>\n",
              "      <th>0</th>\n",
              "      <td>2004</td>\n",
              "      <td>Male</td>\n",
              "      <td>Single</td>\n",
              "      <td>Standard Diploma</td>\n",
              "      <td>Yes</td>\n",
              "      <td>125000</td>\n",
              "      <td>10869</td>\n",
              "      <td>$86,000</td>\n",
              "      <td>86000.0</td>\n",
              "    </tr>\n",
              "    <tr>\n",
              "      <th>1</th>\n",
              "      <td>2005</td>\n",
              "      <td>Male</td>\n",
              "      <td>Married</td>\n",
              "      <td>College Prep Diploma</td>\n",
              "      <td>No</td>\n",
              "      <td>100000</td>\n",
              "      <td>10869</td>\n",
              "      <td>$116,000</td>\n",
              "      <td>116000.0</td>\n",
              "    </tr>\n",
              "    <tr>\n",
              "      <th>2</th>\n",
              "      <td>2006</td>\n",
              "      <td>Female</td>\n",
              "      <td>Single</td>\n",
              "      <td>Standard Diploma</td>\n",
              "      <td>Yes</td>\n",
              "      <td>70000</td>\n",
              "      <td>10869</td>\n",
              "      <td>$52,000</td>\n",
              "      <td>52000.0</td>\n",
              "    </tr>\n",
              "    <tr>\n",
              "      <th>3</th>\n",
              "      <td>2007</td>\n",
              "      <td>Male</td>\n",
              "      <td>Married</td>\n",
              "      <td>Standard Diploma</td>\n",
              "      <td>No</td>\n",
              "      <td>120000</td>\n",
              "      <td>10869</td>\n",
              "      <td>$76,000</td>\n",
              "      <td>76000.0</td>\n",
              "    </tr>\n",
              "    <tr>\n",
              "      <th>4</th>\n",
              "      <td>2006</td>\n",
              "      <td>Female</td>\n",
              "      <td>Divorced</td>\n",
              "      <td>Standard Diploma</td>\n",
              "      <td>Yes</td>\n",
              "      <td>95000</td>\n",
              "      <td>11948</td>\n",
              "      <td>$52,000</td>\n",
              "      <td>52000.0</td>\n",
              "    </tr>\n",
              "    <tr>\n",
              "      <th>...</th>\n",
              "      <td>...</td>\n",
              "      <td>...</td>\n",
              "      <td>...</td>\n",
              "      <td>...</td>\n",
              "      <td>...</td>\n",
              "      <td>...</td>\n",
              "      <td>...</td>\n",
              "      <td>...</td>\n",
              "      <td>...</td>\n",
              "    </tr>\n",
              "    <tr>\n",
              "      <th>83</th>\n",
              "      <td>2007</td>\n",
              "      <td>Male</td>\n",
              "      <td>Single</td>\n",
              "      <td>Standard Diploma</td>\n",
              "      <td>No</td>\n",
              "      <td>75000</td>\n",
              "      <td>12066</td>\n",
              "      <td>$16,000</td>\n",
              "      <td>16000.0</td>\n",
              "    </tr>\n",
              "    <tr>\n",
              "      <th>84</th>\n",
              "      <td>2008</td>\n",
              "      <td>M</td>\n",
              "      <td>Single</td>\n",
              "      <td>College Prep Diploma</td>\n",
              "      <td>Yes</td>\n",
              "      <td>65000</td>\n",
              "      <td>12066</td>\n",
              "      <td>$72,000</td>\n",
              "      <td>72000.0</td>\n",
              "    </tr>\n",
              "    <tr>\n",
              "      <th>85</th>\n",
              "      <td>2009</td>\n",
              "      <td>Male</td>\n",
              "      <td>Married</td>\n",
              "      <td>Standard Diploma</td>\n",
              "      <td>No</td>\n",
              "      <td>75000</td>\n",
              "      <td>12066</td>\n",
              "      <td>$46,000</td>\n",
              "      <td>46000.0</td>\n",
              "    </tr>\n",
              "    <tr>\n",
              "      <th>86</th>\n",
              "      <td>2005</td>\n",
              "      <td>Female</td>\n",
              "      <td>Divorced</td>\n",
              "      <td>Standard Diploma</td>\n",
              "      <td>Yes</td>\n",
              "      <td>100000</td>\n",
              "      <td>12067</td>\n",
              "      <td>$32,000</td>\n",
              "      <td>32000.0</td>\n",
              "    </tr>\n",
              "    <tr>\n",
              "      <th>87</th>\n",
              "      <td>2006</td>\n",
              "      <td>Male</td>\n",
              "      <td>Married</td>\n",
              "      <td>Standard Diploma</td>\n",
              "      <td>Yes</td>\n",
              "      <td>75000</td>\n",
              "      <td>12067</td>\n",
              "      <td>$67,000</td>\n",
              "      <td>67000.0</td>\n",
              "    </tr>\n",
              "  </tbody>\n",
              "</table>\n",
              "<p>88 rows × 9 columns</p>\n",
              "</div>"
            ],
            "text/plain": [
              "    Year Graduated  Gender Marital Status  ...    Fee Savings ($)   Savings\n",
              "0             2004    Male         Single  ...  10869     $86,000   86000.0\n",
              "1             2005    Male        Married  ...  10869    $116,000  116000.0\n",
              "2             2006  Female         Single  ...  10869     $52,000   52000.0\n",
              "3             2007    Male        Married  ...  10869     $76,000   76000.0\n",
              "4             2006  Female       Divorced  ...  11948     $52,000   52000.0\n",
              "..             ...     ...            ...  ...    ...         ...       ...\n",
              "83            2007    Male         Single  ...  12066     $16,000   16000.0\n",
              "84            2008       M         Single  ...  12066     $72,000   72000.0\n",
              "85            2009    Male        Married  ...  12066     $46,000   46000.0\n",
              "86            2005  Female       Divorced  ...  12067     $32,000   32000.0\n",
              "87            2006    Male        Married  ...  12067     $67,000   67000.0\n",
              "\n",
              "[88 rows x 9 columns]"
            ]
          },
          "metadata": {
            "tags": []
          },
          "execution_count": 15
        }
      ]
    },
    {
      "cell_type": "markdown",
      "metadata": {
        "id": "mZv4LYmNBiwH"
      },
      "source": [
        "b) Uncomment 'alumni.dtypes.Savings' to check that the type change has occurred"
      ]
    },
    {
      "cell_type": "code",
      "metadata": {
        "colab": {
          "base_uri": "https://localhost:8080/"
        },
        "id": "WmwvD2HdBiwI",
        "outputId": "b9601ce5-3fed-47b6-d940-95880266c247"
      },
      "source": [
        "#b) (1)\n",
        "alumni.dtypes.Savings"
      ],
      "execution_count": 16,
      "outputs": [
        {
          "output_type": "execute_result",
          "data": {
            "text/plain": [
              "dtype('float64')"
            ]
          },
          "metadata": {
            "tags": []
          },
          "execution_count": 16
        }
      ]
    },
    {
      "cell_type": "markdown",
      "metadata": {
        "id": "xkS02JYVBiwI"
      },
      "source": [
        "### Question 4 :  Cleaning the data set - part B (5 Marks)\n",
        "\n",
        "a) Run the 'alumni[\"Gender\"].value_counts()' to see the incorrect 'M' fields that need to be converted to 'Male'"
      ]
    },
    {
      "cell_type": "code",
      "metadata": {
        "colab": {
          "base_uri": "https://localhost:8080/"
        },
        "id": "0HHEkPKgBiwI",
        "outputId": "8818b35d-d84a-4173-f10c-7d3faa592b07"
      },
      "source": [
        "# a) (1)\n",
        "alumni[\"Gender\"].value_counts()\n"
      ],
      "execution_count": 17,
      "outputs": [
        {
          "output_type": "execute_result",
          "data": {
            "text/plain": [
              "Male      46\n",
              "Female    39\n",
              "M          3\n",
              "Name: Gender, dtype: int64"
            ]
          },
          "metadata": {
            "tags": []
          },
          "execution_count": 17
        }
      ]
    },
    {
      "cell_type": "markdown",
      "metadata": {
        "id": "BKmjvACPBiwJ"
      },
      "source": [
        "b) Now use a '.str.replace' on the 'Gender' column to covert the incorrect 'M' fields. Hint: We must use ^...$ to restrict the pattern to match the whole string. "
      ]
    },
    {
      "cell_type": "code",
      "metadata": {
        "colab": {
          "base_uri": "https://localhost:8080/"
        },
        "id": "5cTOSbW5BiwJ",
        "outputId": "074e5618-f8f5-4b6d-a009-137375f66506"
      },
      "source": [
        "# b)\n",
        "alumni['Gender'].str.replace('M', 'Male')"
      ],
      "execution_count": 18,
      "outputs": [
        {
          "output_type": "execute_result",
          "data": {
            "text/plain": [
              "0     Maleale\n",
              "1     Maleale\n",
              "2      Female\n",
              "3     Maleale\n",
              "4      Female\n",
              "       ...   \n",
              "83    Maleale\n",
              "84       Male\n",
              "85    Maleale\n",
              "86     Female\n",
              "87    Maleale\n",
              "Name: Gender, Length: 88, dtype: object"
            ]
          },
          "metadata": {
            "tags": []
          },
          "execution_count": 18
        }
      ]
    },
    {
      "cell_type": "code",
      "metadata": {
        "colab": {
          "base_uri": "https://localhost:8080/"
        },
        "id": "9ueAjvnrBiwJ",
        "outputId": "0fe13c66-e4c3-4dfb-fdf0-5bb607b93d68"
      },
      "source": [
        "# b) (1)\n",
        "alumni['Gender'].str.replace('^[M]$', 'Male')"
      ],
      "execution_count": 19,
      "outputs": [
        {
          "output_type": "execute_result",
          "data": {
            "text/plain": [
              "0       Male\n",
              "1       Male\n",
              "2     Female\n",
              "3       Male\n",
              "4     Female\n",
              "       ...  \n",
              "83      Male\n",
              "84      Male\n",
              "85      Male\n",
              "86    Female\n",
              "87      Male\n",
              "Name: Gender, Length: 88, dtype: object"
            ]
          },
          "metadata": {
            "tags": []
          },
          "execution_count": 19
        }
      ]
    },
    {
      "cell_type": "markdown",
      "metadata": {
        "id": "J6Ai1mXNBiwJ"
      },
      "source": [
        "c) That didn't the set alumni[\"Gender\"] column however. You will need to update the column when using the replace command 'alumni[\"Gender\"]=<replace command>', show how this is done below"
      ]
    },
    {
      "cell_type": "code",
      "metadata": {
        "id": "bOnGmk3OBiwK"
      },
      "source": [
        "# c) (1)\n",
        "alumni[\"Gender\"] = alumni['Gender'].str.replace('^[M]$', 'Male')"
      ],
      "execution_count": 20,
      "outputs": []
    },
    {
      "cell_type": "code",
      "metadata": {
        "colab": {
          "base_uri": "https://localhost:8080/"
        },
        "id": "3GOxCnQVQJHM",
        "outputId": "1632faec-556e-409d-f9cc-25061cdca83c"
      },
      "source": [
        "alumni[\"Gender\"]"
      ],
      "execution_count": 21,
      "outputs": [
        {
          "output_type": "execute_result",
          "data": {
            "text/plain": [
              "0       Male\n",
              "1       Male\n",
              "2     Female\n",
              "3       Male\n",
              "4     Female\n",
              "       ...  \n",
              "83      Male\n",
              "84      Male\n",
              "85      Male\n",
              "86    Female\n",
              "87      Male\n",
              "Name: Gender, Length: 88, dtype: object"
            ]
          },
          "metadata": {
            "tags": []
          },
          "execution_count": 21
        }
      ]
    },
    {
      "cell_type": "markdown",
      "metadata": {
        "id": "TMwR2qqOBiwK"
      },
      "source": [
        "d) You can set it directly by using the df.loc command, show how this can be done by using the 'df.loc[row_indexer,col_indexer] = value' command to convert the 'M' to 'Male'"
      ]
    },
    {
      "cell_type": "code",
      "metadata": {
        "id": "HaQYGPyPRLr1"
      },
      "source": [
        "alumni.loc[[1, 2,3], 'Gender']='M'"
      ],
      "execution_count": 22,
      "outputs": []
    },
    {
      "cell_type": "code",
      "metadata": {
        "colab": {
          "base_uri": "https://localhost:8080/"
        },
        "id": "Jpji0aPCRs9k",
        "outputId": "db77cea0-b892-4e23-e1cc-e3f40e7e915a"
      },
      "source": [
        "alumni[\"Gender\"]"
      ],
      "execution_count": 23,
      "outputs": [
        {
          "output_type": "execute_result",
          "data": {
            "text/plain": [
              "0       Male\n",
              "1          M\n",
              "2          M\n",
              "3          M\n",
              "4     Female\n",
              "       ...  \n",
              "83      Male\n",
              "84      Male\n",
              "85      Male\n",
              "86    Female\n",
              "87      Male\n",
              "Name: Gender, Length: 88, dtype: object"
            ]
          },
          "metadata": {
            "tags": []
          },
          "execution_count": 23
        }
      ]
    },
    {
      "cell_type": "code",
      "metadata": {
        "id": "T9rfl9nxBiwK"
      },
      "source": [
        "# d) (1)\n",
        "alumni.loc[[1, 2,3], 'Gender']='Male'"
      ],
      "execution_count": 24,
      "outputs": []
    },
    {
      "cell_type": "markdown",
      "metadata": {
        "id": "wT6wL3WnBiwK"
      },
      "source": [
        "e) Now run the 'value_counts' for Gender again to see the correct columns - 'Male' and 'Female' "
      ]
    },
    {
      "cell_type": "code",
      "metadata": {
        "colab": {
          "base_uri": "https://localhost:8080/"
        },
        "id": "A3CUlhcFBiwL",
        "outputId": "fbff5669-757f-43ae-f4b5-da766fef57e8"
      },
      "source": [
        "# e) (1)\n",
        "alumni[\"Gender\"].value_counts()"
      ],
      "execution_count": 25,
      "outputs": [
        {
          "output_type": "execute_result",
          "data": {
            "text/plain": [
              "Male      50\n",
              "Female    38\n",
              "Name: Gender, dtype: int64"
            ]
          },
          "metadata": {
            "tags": []
          },
          "execution_count": 25
        }
      ]
    },
    {
      "cell_type": "markdown",
      "metadata": {
        "id": "_XEc9bylBiwL"
      },
      "source": [
        "### Question 5 :  Working with the data set (4)\n",
        "\n",
        "a) get the median, b) mean and c) standard deviation for the 'Salary' column"
      ]
    },
    {
      "cell_type": "code",
      "metadata": {
        "colab": {
          "base_uri": "https://localhost:8080/"
        },
        "id": "jll6DQIDBiwL",
        "outputId": "61a466cb-f907-4073-eb65-519dd7813887"
      },
      "source": [
        "# a)(1)\n",
        "alumni['Salary'].median()"
      ],
      "execution_count": null,
      "outputs": [
        {
          "output_type": "execute_result",
          "data": {
            "text/plain": [
              "75000.0"
            ]
          },
          "metadata": {
            "tags": []
          },
          "execution_count": 30
        }
      ]
    },
    {
      "cell_type": "code",
      "metadata": {
        "colab": {
          "base_uri": "https://localhost:8080/"
        },
        "id": "RuKeLrezBiwL",
        "outputId": "417897fd-2edd-4d46-c00c-c8fb49077c9d"
      },
      "source": [
        "# b)(1)\n",
        "alumni['Salary'].mean()"
      ],
      "execution_count": null,
      "outputs": [
        {
          "output_type": "execute_result",
          "data": {
            "text/plain": [
              "84090.90909090909"
            ]
          },
          "metadata": {
            "tags": []
          },
          "execution_count": 31
        }
      ]
    },
    {
      "cell_type": "code",
      "metadata": {
        "colab": {
          "base_uri": "https://localhost:8080/"
        },
        "id": "29OCjUGuBiwL",
        "outputId": "f24258b5-e16a-480a-c1c9-11df3104bf9d"
      },
      "source": [
        "# c)(1)\n",
        "alumni['Salary'].std()"
      ],
      "execution_count": null,
      "outputs": [
        {
          "output_type": "execute_result",
          "data": {
            "text/plain": [
              "21234.128008173615"
            ]
          },
          "metadata": {
            "tags": []
          },
          "execution_count": 32
        }
      ]
    },
    {
      "cell_type": "markdown",
      "metadata": {
        "id": "-L388lcEBiwM"
      },
      "source": [
        "d) identify which alumni paid more than $15000 in fees, using the 'Fee' column"
      ]
    },
    {
      "cell_type": "code",
      "metadata": {
        "colab": {
          "base_uri": "https://localhost:8080/",
          "height": 80
        },
        "id": "LuPA9FDTBiwM",
        "outputId": "c6118192-f8db-4b58-f287-0f1fc0b562e6"
      },
      "source": [
        "# d) (1)\n",
        "alumni[alumni.Fee > 15000]"
      ],
      "execution_count": null,
      "outputs": [
        {
          "output_type": "execute_result",
          "data": {
            "text/html": [
              "<div>\n",
              "<style scoped>\n",
              "    .dataframe tbody tr th:only-of-type {\n",
              "        vertical-align: middle;\n",
              "    }\n",
              "\n",
              "    .dataframe tbody tr th {\n",
              "        vertical-align: top;\n",
              "    }\n",
              "\n",
              "    .dataframe thead th {\n",
              "        text-align: right;\n",
              "    }\n",
              "</style>\n",
              "<table border=\"1\" class=\"dataframe\">\n",
              "  <thead>\n",
              "    <tr style=\"text-align: right;\">\n",
              "      <th></th>\n",
              "      <th>Year Graduated</th>\n",
              "      <th>Gender</th>\n",
              "      <th>Marital Status</th>\n",
              "      <th>Diploma Type</th>\n",
              "      <th>Defaulted</th>\n",
              "      <th>Salary</th>\n",
              "      <th>Fee</th>\n",
              "      <th>Savings ($)</th>\n",
              "      <th>Savings</th>\n",
              "    </tr>\n",
              "  </thead>\n",
              "  <tbody>\n",
              "    <tr>\n",
              "      <th>18</th>\n",
              "      <td>2006</td>\n",
              "      <td>Male</td>\n",
              "      <td>Married</td>\n",
              "      <td>Standard Diploma</td>\n",
              "      <td>No</td>\n",
              "      <td>140000</td>\n",
              "      <td>20960</td>\n",
              "      <td>$72,000</td>\n",
              "      <td>72000.0</td>\n",
              "    </tr>\n",
              "  </tbody>\n",
              "</table>\n",
              "</div>"
            ],
            "text/plain": [
              "    Year Graduated Gender Marital Status  ...    Fee Savings ($)  Savings\n",
              "18            2006   Male        Married  ...  20960     $72,000  72000.0\n",
              "\n",
              "[1 rows x 9 columns]"
            ]
          },
          "metadata": {
            "tags": []
          },
          "execution_count": 33
        }
      ]
    },
    {
      "cell_type": "code",
      "metadata": {
        "colab": {
          "base_uri": "https://localhost:8080/",
          "height": 173
        },
        "id": "xKJp8hFrXukE",
        "outputId": "b0a0d7ad-d53d-446a-984d-bc5990fb4bca"
      },
      "source": [
        "alumni[alumni.Fee < 10900]"
      ],
      "execution_count": null,
      "outputs": [
        {
          "output_type": "execute_result",
          "data": {
            "text/html": [
              "<div>\n",
              "<style scoped>\n",
              "    .dataframe tbody tr th:only-of-type {\n",
              "        vertical-align: middle;\n",
              "    }\n",
              "\n",
              "    .dataframe tbody tr th {\n",
              "        vertical-align: top;\n",
              "    }\n",
              "\n",
              "    .dataframe thead th {\n",
              "        text-align: right;\n",
              "    }\n",
              "</style>\n",
              "<table border=\"1\" class=\"dataframe\">\n",
              "  <thead>\n",
              "    <tr style=\"text-align: right;\">\n",
              "      <th></th>\n",
              "      <th>Year Graduated</th>\n",
              "      <th>Gender</th>\n",
              "      <th>Marital Status</th>\n",
              "      <th>Diploma Type</th>\n",
              "      <th>Defaulted</th>\n",
              "      <th>Salary</th>\n",
              "      <th>Fee</th>\n",
              "      <th>Savings ($)</th>\n",
              "      <th>Savings</th>\n",
              "    </tr>\n",
              "  </thead>\n",
              "  <tbody>\n",
              "    <tr>\n",
              "      <th>0</th>\n",
              "      <td>2004</td>\n",
              "      <td>Male</td>\n",
              "      <td>Single</td>\n",
              "      <td>Standard Diploma</td>\n",
              "      <td>Yes</td>\n",
              "      <td>125000</td>\n",
              "      <td>10869</td>\n",
              "      <td>$86,000</td>\n",
              "      <td>86000.0</td>\n",
              "    </tr>\n",
              "    <tr>\n",
              "      <th>1</th>\n",
              "      <td>2005</td>\n",
              "      <td>Male</td>\n",
              "      <td>Married</td>\n",
              "      <td>College Prep Diploma</td>\n",
              "      <td>No</td>\n",
              "      <td>100000</td>\n",
              "      <td>10869</td>\n",
              "      <td>$116,000</td>\n",
              "      <td>116000.0</td>\n",
              "    </tr>\n",
              "    <tr>\n",
              "      <th>2</th>\n",
              "      <td>2006</td>\n",
              "      <td>Male</td>\n",
              "      <td>Single</td>\n",
              "      <td>Standard Diploma</td>\n",
              "      <td>Yes</td>\n",
              "      <td>70000</td>\n",
              "      <td>10869</td>\n",
              "      <td>$52,000</td>\n",
              "      <td>52000.0</td>\n",
              "    </tr>\n",
              "    <tr>\n",
              "      <th>3</th>\n",
              "      <td>2007</td>\n",
              "      <td>Male</td>\n",
              "      <td>Married</td>\n",
              "      <td>Standard Diploma</td>\n",
              "      <td>No</td>\n",
              "      <td>120000</td>\n",
              "      <td>10869</td>\n",
              "      <td>$76,000</td>\n",
              "      <td>76000.0</td>\n",
              "    </tr>\n",
              "  </tbody>\n",
              "</table>\n",
              "</div>"
            ],
            "text/plain": [
              "   Year Graduated Gender Marital Status  ...    Fee Savings ($)   Savings\n",
              "0            2004   Male         Single  ...  10869     $86,000   86000.0\n",
              "1            2005   Male        Married  ...  10869    $116,000  116000.0\n",
              "2            2006   Male         Single  ...  10869     $52,000   52000.0\n",
              "3            2007   Male        Married  ...  10869     $76,000   76000.0\n",
              "\n",
              "[4 rows x 9 columns]"
            ]
          },
          "metadata": {
            "tags": []
          },
          "execution_count": 40
        }
      ]
    },
    {
      "cell_type": "code",
      "metadata": {
        "id": "kBl-UPdyaBCr"
      },
      "source": [
        ""
      ],
      "execution_count": null,
      "outputs": []
    },
    {
      "cell_type": "markdown",
      "metadata": {
        "id": "Ryl40CbcBiwM"
      },
      "source": [
        "### Question 6 :  Visualise the data set (4 Marks)\n",
        "\n",
        "a) Using the 'Diploma Type' column, plot a bar chart and show its value counts."
      ]
    },
    {
      "cell_type": "code",
      "metadata": {
        "scrolled": false,
        "colab": {
          "base_uri": "https://localhost:8080/"
        },
        "id": "p8AR1c4vBiwM",
        "outputId": "04905c28-90c2-4994-9689-954de7445c1c"
      },
      "source": [
        "#a) (1)\n",
        "alumni['Diploma Type'].value_counts()"
      ],
      "execution_count": 26,
      "outputs": [
        {
          "output_type": "execute_result",
          "data": {
            "text/plain": [
              "Standard Diploma        65\n",
              "College Prep Diploma    23\n",
              "Name: Diploma Type, dtype: int64"
            ]
          },
          "metadata": {
            "tags": []
          },
          "execution_count": 26
        }
      ]
    },
    {
      "cell_type": "code",
      "metadata": {
        "colab": {
          "base_uri": "https://localhost:8080/",
          "height": 379
        },
        "id": "6FlTwcnocO6r",
        "outputId": "4d05a6f0-1701-4d72-9b2c-a35cc0b2366b"
      },
      "source": [
        "alumni['Diploma Type'].value_counts().plot(kind = 'bar')"
      ],
      "execution_count": 27,
      "outputs": [
        {
          "output_type": "execute_result",
          "data": {
            "text/plain": [
              "<matplotlib.axes._subplots.AxesSubplot at 0x7fa06000db50>"
            ]
          },
          "metadata": {
            "tags": []
          },
          "execution_count": 27
        },
        {
          "output_type": "display_data",
          "data": {
            "image/png": "[encoded data removed]",
            "text/plain": [
              "<Figure size 432x288 with 1 Axes>"
            ]
          },
          "metadata": {
            "tags": [],
            "needs_background": "light"
          }
        }
      ]
    },
    {
      "cell_type": "code",
      "metadata": {
        "colab": {
          "base_uri": "https://localhost:8080/",
          "height": 296
        },
        "id": "wFZ6s9xOd0HI",
        "outputId": "54b903ec-c50a-409f-de4e-76c2c3622440"
      },
      "source": [
        "sns.countplot(x = alumni['Diploma Type'])"
      ],
      "execution_count": 28,
      "outputs": [
        {
          "output_type": "execute_result",
          "data": {
            "text/plain": [
              "<matplotlib.axes._subplots.AxesSubplot at 0x7fa060088190>"
            ]
          },
          "metadata": {
            "tags": []
          },
          "execution_count": 28
        },
        {
          "output_type": "display_data",
          "data": {
            "image/png": "[encoded data removed]",
            "text/plain": [
              "<Figure size 432x288 with 1 Axes>"
            ]
          },
          "metadata": {
            "tags": [],
            "needs_background": "light"
          }
        }
      ]
    },
    {
      "cell_type": "markdown",
      "metadata": {
        "id": "-l2-89X0BiwN"
      },
      "source": [
        "b) Now create a box plot comparison between 'Savings' and 'Salary' columns"
      ]
    },
    {
      "cell_type": "code",
      "metadata": {
        "colab": {
          "base_uri": "https://localhost:8080/",
          "height": 282
        },
        "id": "tmnEeqP6BiwN",
        "outputId": "c46f6cf7-201a-4627-996d-9e3f7abdc69f"
      },
      "source": [
        "#b) (1)\n",
        "alumni[['Savings', 'Salary']].plot(kind = 'box')"
      ],
      "execution_count": 29,
      "outputs": [
        {
          "output_type": "execute_result",
          "data": {
            "text/plain": [
              "<matplotlib.axes._subplots.AxesSubplot at 0x7fa05fa70250>"
            ]
          },
          "metadata": {
            "tags": []
          },
          "execution_count": 29
        },
        {
          "output_type": "display_data",
          "data": {
            "image/png": "[encoded data removed]",
            "text/plain": [
              "<Figure size 432x288 with 1 Axes>"
            ]
          },
          "metadata": {
            "tags": [],
            "needs_background": "light"
          }
        }
      ]
    },
    {
      "cell_type": "code",
      "metadata": {
        "id": "5nYHq5xwjTMm"
      },
      "source": [
        ""
      ],
      "execution_count": null,
      "outputs": []
    },
    {
      "cell_type": "markdown",
      "metadata": {
        "id": "ywgNS4QRBiwN"
      },
      "source": [
        "c) Generate a histogram with the 'Salary' column and use 12 bins."
      ]
    },
    {
      "cell_type": "code",
      "metadata": {
        "colab": {
          "base_uri": "https://localhost:8080/",
          "height": 282
        },
        "id": "EmynE-jFBiwN",
        "outputId": "c8c790e6-f142-417e-faeb-06062365a9dc"
      },
      "source": [
        "#c) (1)\n",
        "alumni['Salary'].plot(kind = 'hist', bins = 12)"
      ],
      "execution_count": 30,
      "outputs": [
        {
          "output_type": "execute_result",
          "data": {
            "text/plain": [
              "<matplotlib.axes._subplots.AxesSubplot at 0x7fa05fa00510>"
            ]
          },
          "metadata": {
            "tags": []
          },
          "execution_count": 30
        },
        {
          "output_type": "display_data",
          "data": {
            "image/png": "[encoded data removed]",
            "text/plain": [
              "<Figure size 432x288 with 1 Axes>"
            ]
          },
          "metadata": {
            "tags": [],
            "needs_background": "light"
          }
        }
      ]
    },
    {
      "cell_type": "markdown",
      "metadata": {
        "id": "OwH3vk1iBiwN"
      },
      "source": [
        "d) Generate a scatter plot comparing 'Salary' and 'Savings' columns."
      ]
    },
    {
      "cell_type": "code",
      "metadata": {
        "scrolled": true,
        "colab": {
          "base_uri": "https://localhost:8080/",
          "height": 296
        },
        "id": "d7Gy6kHZBiwO",
        "outputId": "8053bfa3-1641-416a-d4a2-16f93157a779"
      },
      "source": [
        "#d) (1)\n",
        "alumni.plot(kind = 'scatter', x = 'Savings', y = 'Salary')"
      ],
      "execution_count": 31,
      "outputs": [
        {
          "output_type": "execute_result",
          "data": {
            "text/plain": [
              "<matplotlib.axes._subplots.AxesSubplot at 0x7fa05fa05990>"
            ]
          },
          "metadata": {
            "tags": []
          },
          "execution_count": 31
        },
        {
          "output_type": "display_data",
          "data": {
            "image/png": "[encoded data removed]",
            "text/plain": [
              "<Figure size 432x288 with 1 Axes>"
            ]
          },
          "metadata": {
            "tags": [],
            "needs_background": "light"
          }
        }
      ]
    },
    {
      "cell_type": "markdown",
      "metadata": {
        "id": "f8v45iYGBiwO"
      },
      "source": [
        "### Question 7 :  Contingency Table (2 Marks)\n",
        "\n",
        "Using both the 'Martial Status' and 'Defaulted' create a contingency table. Hint: crosstab"
      ]
    },
    {
      "cell_type": "code",
      "metadata": {
        "colab": {
          "base_uri": "https://localhost:8080/"
        },
        "id": "WQyo68i1mQ4i",
        "outputId": "f5f6f670-c73b-4599-c9e5-f0fc0e9efe15"
      },
      "source": [
        "alumni['Marital Status'].value_counts()"
      ],
      "execution_count": 32,
      "outputs": [
        {
          "output_type": "execute_result",
          "data": {
            "text/plain": [
              "Married     35\n",
              "Single      34\n",
              "Divorced    19\n",
              "Name: Marital Status, dtype: int64"
            ]
          },
          "metadata": {
            "tags": []
          },
          "execution_count": 32
        }
      ]
    },
    {
      "cell_type": "code",
      "metadata": {
        "colab": {
          "base_uri": "https://localhost:8080/"
        },
        "id": "t4xDY4AUmRiy",
        "outputId": "de23b05e-589a-4552-fc80-dfa21a6e87e1"
      },
      "source": [
        "alumni['Defaulted'].value_counts()"
      ],
      "execution_count": 34,
      "outputs": [
        {
          "output_type": "execute_result",
          "data": {
            "text/plain": [
              "Yes    52\n",
              "No     36\n",
              "Name: Defaulted, dtype: int64"
            ]
          },
          "metadata": {
            "tags": []
          },
          "execution_count": 34
        }
      ]
    },
    {
      "cell_type": "code",
      "metadata": {
        "colab": {
          "base_uri": "https://localhost:8080/",
          "height": 173
        },
        "id": "jlKWs0iSBiwO",
        "outputId": "11edb81d-4327-4919-9c00-d848b6c38c60"
      },
      "source": [
        "# Q7 (2)\n",
        "pd.crosstab(index=alumni['Marital Status'], columns=alumni['Defaulted'])"
      ],
      "execution_count": 33,
      "outputs": [
        {
          "output_type": "execute_result",
          "data": {
            "text/html": [
              "<div>\n",
              "<style scoped>\n",
              "    .dataframe tbody tr th:only-of-type {\n",
              "        vertical-align: middle;\n",
              "    }\n",
              "\n",
              "    .dataframe tbody tr th {\n",
              "        vertical-align: top;\n",
              "    }\n",
              "\n",
              "    .dataframe thead th {\n",
              "        text-align: right;\n",
              "    }\n",
              "</style>\n",
              "<table border=\"1\" class=\"dataframe\">\n",
              "  <thead>\n",
              "    <tr style=\"text-align: right;\">\n",
              "      <th>Defaulted</th>\n",
              "      <th>No</th>\n",
              "      <th>Yes</th>\n",
              "    </tr>\n",
              "    <tr>\n",
              "      <th>Marital Status</th>\n",
              "      <th></th>\n",
              "      <th></th>\n",
              "    </tr>\n",
              "  </thead>\n",
              "  <tbody>\n",
              "    <tr>\n",
              "      <th>Divorced</th>\n",
              "      <td>8</td>\n",
              "      <td>11</td>\n",
              "    </tr>\n",
              "    <tr>\n",
              "      <th>Married</th>\n",
              "      <td>19</td>\n",
              "      <td>16</td>\n",
              "    </tr>\n",
              "    <tr>\n",
              "      <th>Single</th>\n",
              "      <td>9</td>\n",
              "      <td>25</td>\n",
              "    </tr>\n",
              "  </tbody>\n",
              "</table>\n",
              "</div>"
            ],
            "text/plain": [
              "Defaulted       No  Yes\n",
              "Marital Status         \n",
              "Divorced         8   11\n",
              "Married         19   16\n",
              "Single           9   25"
            ]
          },
          "metadata": {
            "tags": []
          },
          "execution_count": 33
        }
      ]
    },
    {
      "cell_type": "code",
      "metadata": {
        "id": "DAEBXPL1ndoL"
      },
      "source": [
        ""
      ],
      "execution_count": null,
      "outputs": []
    }
  ]
}